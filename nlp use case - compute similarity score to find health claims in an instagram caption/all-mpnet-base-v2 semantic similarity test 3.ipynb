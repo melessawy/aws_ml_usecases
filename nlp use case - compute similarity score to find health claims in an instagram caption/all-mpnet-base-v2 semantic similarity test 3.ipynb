{
 "cells": [
  {
   "cell_type": "code",
   "execution_count": null,
   "id": "4e940a0e",
   "metadata": {},
   "outputs": [],
   "source": [
    "!pip install sentence_transformers"
   ]
  },
  {
   "cell_type": "code",
   "execution_count": 2,
   "id": "2eabb3a2",
   "metadata": {},
   "outputs": [
    {
     "data": {
      "application/vnd.jupyter.widget-view+json": {
       "model_id": "641f303fdfe7499b9dad50e7cd75dd18",
       "version_major": 2,
       "version_minor": 0
      },
      "text/plain": [
       "Downloading:   0%|          | 0.00/1.18k [00:00<?, ?B/s]"
      ]
     },
     "metadata": {},
     "output_type": "display_data"
    },
    {
     "data": {
      "application/vnd.jupyter.widget-view+json": {
       "model_id": "73ea7bea55ad4233ab1d7a369314e902",
       "version_major": 2,
       "version_minor": 0
      },
      "text/plain": [
       "Downloading:   0%|          | 0.00/10.1k [00:00<?, ?B/s]"
      ]
     },
     "metadata": {},
     "output_type": "display_data"
    },
    {
     "data": {
      "application/vnd.jupyter.widget-view+json": {
       "model_id": "170116b7f25a4e82b35dfd0fb86daa21",
       "version_major": 2,
       "version_minor": 0
      },
      "text/plain": [
       "Downloading:   0%|          | 0.00/571 [00:00<?, ?B/s]"
      ]
     },
     "metadata": {},
     "output_type": "display_data"
    },
    {
     "data": {
      "application/vnd.jupyter.widget-view+json": {
       "model_id": "58c7a932fc8b457888133bdb56d55586",
       "version_major": 2,
       "version_minor": 0
      },
      "text/plain": [
       "Downloading:   0%|          | 0.00/116 [00:00<?, ?B/s]"
      ]
     },
     "metadata": {},
     "output_type": "display_data"
    },
    {
     "data": {
      "application/vnd.jupyter.widget-view+json": {
       "model_id": "11b2fe118aaa46f39eab0895a51d96f0",
       "version_major": 2,
       "version_minor": 0
      },
      "text/plain": [
       "Downloading:   0%|          | 0.00/39.3k [00:00<?, ?B/s]"
      ]
     },
     "metadata": {},
     "output_type": "display_data"
    },
    {
     "data": {
      "application/vnd.jupyter.widget-view+json": {
       "model_id": "acb728f15c1740b481f805f2a925241c",
       "version_major": 2,
       "version_minor": 0
      },
      "text/plain": [
       "Downloading:   0%|          | 0.00/349 [00:00<?, ?B/s]"
      ]
     },
     "metadata": {},
     "output_type": "display_data"
    },
    {
     "data": {
      "application/vnd.jupyter.widget-view+json": {
       "model_id": "d60447885c7e48e3a8776db27a50af20",
       "version_major": 2,
       "version_minor": 0
      },
      "text/plain": [
       "Downloading:   0%|          | 0.00/438M [00:00<?, ?B/s]"
      ]
     },
     "metadata": {},
     "output_type": "display_data"
    },
    {
     "data": {
      "application/vnd.jupyter.widget-view+json": {
       "model_id": "30ccdd09731f482cb9113c14d472a1c3",
       "version_major": 2,
       "version_minor": 0
      },
      "text/plain": [
       "Downloading:   0%|          | 0.00/53.0 [00:00<?, ?B/s]"
      ]
     },
     "metadata": {},
     "output_type": "display_data"
    },
    {
     "data": {
      "application/vnd.jupyter.widget-view+json": {
       "model_id": "555fe4dba1674082a5070a8ae37a7681",
       "version_major": 2,
       "version_minor": 0
      },
      "text/plain": [
       "Downloading:   0%|          | 0.00/239 [00:00<?, ?B/s]"
      ]
     },
     "metadata": {},
     "output_type": "display_data"
    },
    {
     "data": {
      "application/vnd.jupyter.widget-view+json": {
       "model_id": "7a8c6d823f024367a7ec4858a03755af",
       "version_major": 2,
       "version_minor": 0
      },
      "text/plain": [
       "Downloading:   0%|          | 0.00/466k [00:00<?, ?B/s]"
      ]
     },
     "metadata": {},
     "output_type": "display_data"
    },
    {
     "data": {
      "application/vnd.jupyter.widget-view+json": {
       "model_id": "11107ce1d0794198a37ff4d7bb6e53ce",
       "version_major": 2,
       "version_minor": 0
      },
      "text/plain": [
       "Downloading:   0%|          | 0.00/363 [00:00<?, ?B/s]"
      ]
     },
     "metadata": {},
     "output_type": "display_data"
    },
    {
     "data": {
      "application/vnd.jupyter.widget-view+json": {
       "model_id": "e79c057a1ce543cda56b4f3663d64ce5",
       "version_major": 2,
       "version_minor": 0
      },
      "text/plain": [
       "Downloading:   0%|          | 0.00/13.1k [00:00<?, ?B/s]"
      ]
     },
     "metadata": {},
     "output_type": "display_data"
    },
    {
     "data": {
      "application/vnd.jupyter.widget-view+json": {
       "model_id": "98a960ed92f543648d6b7debab1c994d",
       "version_major": 2,
       "version_minor": 0
      },
      "text/plain": [
       "Downloading:   0%|          | 0.00/232k [00:00<?, ?B/s]"
      ]
     },
     "metadata": {},
     "output_type": "display_data"
    },
    {
     "data": {
      "application/vnd.jupyter.widget-view+json": {
       "model_id": "285b1f2dc53649a88bb6e7c717047d15",
       "version_major": 2,
       "version_minor": 0
      },
      "text/plain": [
       "Downloading:   0%|          | 0.00/190 [00:00<?, ?B/s]"
      ]
     },
     "metadata": {},
     "output_type": "display_data"
    }
   ],
   "source": [
    "# https://huggingface.co/sentence-transformers/all-mpnet-base-v2\n",
    "\n",
    "from sentence_transformers import SentenceTransformer, util\n",
    "\n",
    "model = SentenceTransformer('sentence-transformers/all-mpnet-base-v2')\n"
   ]
  },
  {
   "cell_type": "code",
   "execution_count": 4,
   "id": "8beb6772",
   "metadata": {},
   "outputs": [],
   "source": [
    "#Read health claims dataset as a list\n",
    "\n",
    "import csv\n",
    "\n",
    "with open(\"dataset/health_claims_dataset3.csv\", newline='') as f:\n",
    "    reader = csv.reader(f)\n",
    "    data = list(reader)\n",
    "    data.pop(0)\n",
    "\n",
    "    \n",
    "#improve the list format (avoid nested lists)\n",
    "sentences1=[]\n",
    "for i in range(len(data)):\n",
    "    sentences1.append(data[i][0])\n",
    "\n",
    "#Compute embeddings for our health claims dataset\n",
    "embeddings1 = model.encode(sentences1, convert_to_tensor=True)\n"
   ]
  },
  {
   "cell_type": "code",
   "execution_count": 5,
   "id": "11aacfd2",
   "metadata": {},
   "outputs": [],
   "source": [
    "#function to split caption into sentences\n",
    "\n",
    "# -*- coding: utf-8 -*-\n",
    "import re\n",
    "alphabets= \"([A-Za-z])\"\n",
    "prefixes = \"(Mr|St|Mrs|Ms|Dr)[.]\"\n",
    "suffixes = \"(Inc|Ltd|Jr|Sr|Co)\"\n",
    "starters = \"(Mr|Mrs|Ms|Dr|He\\s|She\\s|It\\s|They\\s|Their\\s|Our\\s|We\\s|But\\s|However\\s|That\\s|This\\s|Wherever)\"\n",
    "acronyms = \"([A-Z][.][A-Z][.](?:[A-Z][.])?)\"\n",
    "websites = \"[.](com|net|org|io|gov)\"\n",
    "\n",
    "def split_into_sentences(text):\n",
    "    if (text.find('.')==-1):\n",
    "        text = text + \".\"\n",
    "    text = \" \" + text + \"  \"\n",
    "    text = text.replace(\"\\n\",\" \")\n",
    "    text = re.sub(prefixes,\"\\\\1<prd>\",text)\n",
    "    text = re.sub(websites,\"<prd>\\\\1\",text)\n",
    "    if \"Ph.D\" in text: text = text.replace(\"Ph.D.\",\"Ph<prd>D<prd>\")\n",
    "    text = re.sub(\"\\s\" + alphabets + \"[.] \",\" \\\\1<prd> \",text)\n",
    "    text = re.sub(acronyms+\" \"+starters,\"\\\\1<stop> \\\\2\",text)\n",
    "    text = re.sub(alphabets + \"[.]\" + alphabets + \"[.]\" + alphabets + \"[.]\",\"\\\\1<prd>\\\\2<prd>\\\\3<prd>\",text)\n",
    "    text = re.sub(alphabets + \"[.]\" + alphabets + \"[.]\",\"\\\\1<prd>\\\\2<prd>\",text)\n",
    "    text = re.sub(\" \"+suffixes+\"[.] \"+starters,\" \\\\1<stop> \\\\2\",text)\n",
    "    text = re.sub(\" \"+suffixes+\"[.]\",\" \\\\1<prd>\",text)\n",
    "    text = re.sub(\" \" + alphabets + \"[.]\",\" \\\\1<prd>\",text)\n",
    "    if \"”\" in text: text = text.replace(\".”\",\"”.\")\n",
    "    if \"\\\"\" in text: text = text.replace(\".\\\"\",\"\\\".\")\n",
    "    if \"!\" in text: text = text.replace(\"!\\\"\",\"\\\"!\")\n",
    "    if \"?\" in text: text = text.replace(\"?\\\"\",\"\\\"?\")\n",
    "    text = text.replace(\".\",\".<stop>\")\n",
    "    text = text.replace(\"?\",\"?<stop>\")\n",
    "    text = text.replace(\"!\",\"!<stop>\")\n",
    "    text = text.replace(\"<prd>\",\".\")\n",
    "    sentences = text.split(\"<stop>\")    \n",
    "    sentences = [s.strip() for s in sentences]\n",
    "    for i in range(len(sentences)):\n",
    "        if sentences[i]=='': sentences.pop(i)\n",
    "    return sentences"
   ]
  },
  {
   "cell_type": "code",
   "execution_count": 6,
   "id": "bb6ec8f9",
   "metadata": {},
   "outputs": [],
   "source": [
    "#Breaking up an instagram caption into separate setences\n",
    "\n",
    "# caption = \"food with a 'good source of calcium' helps reduce weight significantly. calcium for healthy bones and teeth. Diets high in calcium may reduce the risk of osteoporosis in people 65 years and over. \"\n",
    "# caption = \"eating an apple a day is going to help you lose your tension\"\n",
    "# caption = \"Cannabis use can help you quit your addiction to smoking\"\n",
    "caption = \"regular cannabis use can greatly contribute to stopping addictive habits\"\n",
    "\n",
    "sentences = split_into_sentences(caption)\n"
   ]
  },
  {
   "cell_type": "code",
   "execution_count": 7,
   "id": "158c75a7",
   "metadata": {},
   "outputs": [],
   "source": [
    "#hold those separate sentences in a dictionary\n",
    "dict={}\n",
    "for i in range (len(sentences)):\n",
    "    dict[sentences.index(sentences[i])] = sentences[i]"
   ]
  },
  {
   "cell_type": "code",
   "execution_count": 8,
   "id": "45096d51",
   "metadata": {},
   "outputs": [],
   "source": [
    "#Compute embeddings for our caption\n",
    "\n",
    "embeddings2={}\n",
    "for i in range(len(dict)):\n",
    "    embeddings2[i] = model.encode(dict[i], convert_to_tensor=True)"
   ]
  },
  {
   "cell_type": "code",
   "execution_count": 9,
   "id": "b014955e",
   "metadata": {},
   "outputs": [],
   "source": [
    "#Compute similarity scores (caption versus health claims dataset)\n",
    "scores={}\n",
    "scores=scores.fromkeys(range(len(dict)))\n",
    "\n",
    "for i in range (len(dict)):\n",
    "    scores[i]={}\n",
    "\n",
    "for i in range (len(scores)):\n",
    "    for j in range (len(sentences1)):\n",
    "        scores[i][j] = util.pytorch_cos_sim(embeddings1[j], embeddings2[i])\n"
   ]
  },
  {
   "cell_type": "code",
   "execution_count": 10,
   "id": "31fc139c",
   "metadata": {},
   "outputs": [
    {
     "name": "stdout",
     "output_type": "stream",
     "text": [
      "sentence:  regular cannabis use can greatly contribute to stopping addictive habits.  - Score:  0.601939857006073\n"
     ]
    }
   ],
   "source": [
    "# check the maximum similarity scores to see if there is one exceeding 0.45\n",
    "\n",
    "sentences_scores=[]\n",
    "\n",
    "for i in range(len(scores)):\n",
    "    temp=[]\n",
    "    for j in range (len(scores[i])):\n",
    "        # print(\"{:.4f}\".format(scores[i][j][0][0]))\n",
    "        temp.append(scores[i][j].item())\n",
    "    sentences_scores.append(max(temp))\n",
    "    \n",
    "for i in range (len(sentences_scores)):\n",
    "    if sentences_scores[i]>0.45:\n",
    "        print (\"sentence: \", dict[i], \" - Score: \", sentences_scores[i])\n"
   ]
  }
 ],
 "metadata": {
  "kernelspec": {
   "display_name": "Python 3",
   "language": "python",
   "name": "python3"
  },
  "language_info": {
   "codemirror_mode": {
    "name": "ipython",
    "version": 3
   },
   "file_extension": ".py",
   "mimetype": "text/x-python",
   "name": "python",
   "nbconvert_exporter": "python",
   "pygments_lexer": "ipython3",
   "version": "3.8.8"
  }
 },
 "nbformat": 4,
 "nbformat_minor": 5
}
